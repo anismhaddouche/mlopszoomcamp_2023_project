{
 "cells": [
  {
   "cell_type": "code",
   "execution_count": 2,
   "metadata": {},
   "outputs": [],
   "source": [
    "import mlflow\n",
    "import mlflow\n",
    "import pickle\n",
    "import pandas as pd "
   ]
  },
  {
   "cell_type": "code",
   "execution_count": 3,
   "metadata": {},
   "outputs": [],
   "source": [
    "\n",
    "# Get predictions of the reference data \n",
    "with open (\"/Users/anis/Desktop/mlopszoomcamp_2023_project/models/DictVectorizer.b\", \"rb\") as f_in:\n",
    "    dv = pickle.load(f_in)\n",
    "    \n",
    "with open(\"/Users/anis/Desktop/mlopszoomcamp_2023_project/models/xgboost.bin\", \"rb\") as f_in:\n",
    "    model =  pickle.load(f_in)\n",
    "    \n",
    "reference_data = pd.read_parquet('data/reference_data.parquet')\n",
    "\n",
    "X = reference_data[['location_duree', 'superficie', 'pieces', 'etages',\n",
    "       'category','commune']]\n",
    "X = X.to_dict('records')\n",
    "reference_data['price_pred'] = model.predict(dv.transform(X))"
   ]
  },
  {
   "cell_type": "code",
   "execution_count": null,
   "metadata": {},
   "outputs": [],
   "source": [
    "raw_data = reference_data.copy().iloc[0:300]"
   ]
  },
  {
   "cell_type": "code",
   "execution_count": null,
   "metadata": {},
   "outputs": [],
   "source": [
    "# Evidently \n",
    "from evidently import ColumnMapping\n",
    "from evidently.report import Report\n",
    "from evidently.metrics import ColumnDriftMetric, DatasetDriftMetric, DatasetMissingValuesMetric"
   ]
  },
  {
   "cell_type": "code",
   "execution_count": null,
   "metadata": {},
   "outputs": [],
   "source": [
    "reference_data.columns"
   ]
  },
  {
   "cell_type": "code",
   "execution_count": null,
   "metadata": {},
   "outputs": [],
   "source": [
    "num_features = ['location_duree', 'superficie', 'pieces', 'etages']\n",
    "cat_features = ['category',  'commune']\n",
    "\n",
    "column_mapping = ColumnMapping(\n",
    "    target=None,\n",
    "    prediction='price_pred',\n",
    "    numerical_features=num_features,\n",
    "    categorical_features=cat_features\n",
    ")"
   ]
  },
  {
   "cell_type": "code",
   "execution_count": null,
   "metadata": {},
   "outputs": [],
   "source": [
    "report = Report(metrics=[\n",
    "    ColumnDriftMetric(column_name='price_pred'),\n",
    "    DatasetDriftMetric(),\n",
    "    DatasetMissingValuesMetric()\n",
    "]\n",
    ")"
   ]
  },
  {
   "cell_type": "code",
   "execution_count": null,
   "metadata": {},
   "outputs": [],
   "source": [
    "report.run(reference_data=reference_data, current_data=raw_data, column_mapping=column_mapping)\n"
   ]
  },
  {
   "cell_type": "code",
   "execution_count": null,
   "metadata": {},
   "outputs": [],
   "source": [
    "report.show(mode='inline')"
   ]
  },
  {
   "cell_type": "code",
   "execution_count": null,
   "metadata": {},
   "outputs": [],
   "source": [
    "result = report.as_dict()"
   ]
  },
  {
   "cell_type": "code",
   "execution_count": null,
   "metadata": {},
   "outputs": [],
   "source": [
    "result"
   ]
  },
  {
   "cell_type": "code",
   "execution_count": null,
   "metadata": {},
   "outputs": [],
   "source": [
    "#prediction drift\n",
    "result['metrics'][0]['result']['drift_score']"
   ]
  },
  {
   "cell_type": "code",
   "execution_count": null,
   "metadata": {},
   "outputs": [],
   "source": [
    "#number of drifted columns\n",
    "result['metrics'][1]['result']['number_of_drifted_columns']"
   ]
  },
  {
   "cell_type": "code",
   "execution_count": null,
   "metadata": {},
   "outputs": [],
   "source": [
    "result['metrics'][2]['result']['current']['share_of_missing_values']\n"
   ]
  },
  {
   "cell_type": "markdown",
   "metadata": {},
   "source": [
    "# Script for monitoring "
   ]
  },
  {
   "cell_type": "code",
   "execution_count": 1,
   "metadata": {},
   "outputs": [],
   "source": [
    "import datetime\n",
    "import time\n",
    "import random\n",
    "import logging \n",
    "import pickle\n",
    "import uuid\n",
    "import pytz\n",
    "import pandas as pd\n",
    "import io\n",
    "import psycopg\n",
    "import joblib\n",
    "\n",
    "from prefect import task, flow\n",
    "\n",
    "from evidently.report import Report\n",
    "from evidently import ColumnMapping\n",
    "from evidently.metrics import ColumnDriftMetric, DatasetDriftMetric, DatasetMissingValuesMetric\n",
    "\n",
    "logging.basicConfig(level=logging.INFO, format=\"%(asctime)s [%(levelname)s]: %(message)s\")\n",
    "\n",
    "SEND_TIMEOUT = 10\n",
    "rand = random.Random()\n",
    "\n",
    "create_table_statement = \"\"\"\n",
    "drop table if exists dummy_metrics;\n",
    "create table dummy_metrics(\n",
    "\ttimestamp timestamp,\n",
    "\tprediction_drift float,\n",
    "\tnum_drifted_columns integer,\n",
    "\tshare_missing_values float\n",
    ")\n",
    "\"\"\""
   ]
  },
  {
   "cell_type": "code",
   "execution_count": 16,
   "metadata": {},
   "outputs": [],
   "source": [
    "\n",
    "# Get predictions of the reference data \n",
    "with open (\"/Users/anis/Desktop/mlopszoomcamp_2023_project/models/DictVectorizer.b\", \"rb\") as f_in:\n",
    "    dv = pickle.load(f_in)\n",
    "with open(\"/Users/anis/Desktop/mlopszoomcamp_2023_project/models/xgboost.bin\", \"rb\") as f_in:\n",
    "    model =  pickle.load(f_in)\n",
    "  \n",
    "  \n",
    "# Prepare data   \n",
    "data = pd.read_parquet('data/reference_data.parquet')\n",
    "data['createdAt'] = data['createdAt'].dt.tz_localize(None)\n",
    "\n",
    "num_features = ['location_duree', 'superficie', 'pieces', 'etages']\n",
    "cat_features = ['category', 'wilaya']\n",
    "\n",
    "X = data[num_features+cat_features]\n",
    "X = X.to_dict('records')\n",
    "\n",
    "\n",
    "\n",
    "data['price_pred'] = model.predict(dv.transform(X))\n",
    "data = data.reset_index(drop=True)\n",
    "data.sort_values(by=\"createdAt\", ascending=False,inplace=True)\n",
    "\n",
    "reference_data = data.iloc[:500]\n",
    "raw_data = data.drop('price_pred',axis = 1).iloc[500:]\n",
    "\n",
    "raw_data.sort_values(by=\"createdAt\", ascending=True,inplace=True)\n",
    "reference_data.sort_values(by=\"createdAt\", ascending=True,inplace=True)"
   ]
  },
  {
   "cell_type": "code",
   "execution_count": 17,
   "metadata": {},
   "outputs": [],
   "source": [
    "# Create evidently report \n",
    "column_mapping = ColumnMapping(\n",
    "    prediction='price_pred',\n",
    "    numerical_features=num_features,\n",
    "    categorical_features=cat_features,\n",
    "    target=None\n",
    ")\n",
    "\n",
    "report = Report(metrics = [\n",
    "    ColumnDriftMetric(column_name='price_pred'),\n",
    "    DatasetDriftMetric(),\n",
    "    DatasetMissingValuesMetric()\n",
    "])"
   ]
  },
  {
   "cell_type": "code",
   "execution_count": 18,
   "metadata": {},
   "outputs": [],
   "source": [
    "def prep_db():\n",
    "\twith psycopg.connect(\"host=localhost port=5432 user=postgres password=example\", autocommit=True) as conn:\n",
    "\t\tres = conn.execute(\"SELECT 1 FROM pg_database WHERE datname='test'\")\n",
    "\t\tif len(res.fetchall()) == 0:\n",
    "\t\t\tconn.execute(\"create database test;\")\n",
    "\t\twith psycopg.connect(\"host=localhost port=5432 dbname=test user=postgres password=example\") as conn:\n",
    "\t\t\tconn.execute(create_table_statement)\n"
   ]
  },
  {
   "cell_type": "code",
   "execution_count": 72,
   "metadata": {},
   "outputs": [],
   "source": [
    "def calculate_metrics_postgresql(curr, num_batches, start_index,end_index):\n",
    "\t# Calcul du nombre total de mini DataFrames nécessaires\n",
    "\tcurrent_data = raw_data.iloc[start_index:end_index]\n",
    "\t# Initialiser les variables\n",
    "\tX = current_data[num_features+cat_features]\n",
    "\tX = X.to_dict('records')\n",
    "\tcurrent_data['price_pred'] = model.predict(dv.transform(X))\n",
    " \n",
    "\treport.run(reference_data = reference_data, current_data = current_data,\n",
    "\tcolumn_mapping=column_mapping)\n",
    "\n",
    "\tresult = report.as_dict()\n",
    "\n",
    "\tprediction_drift = result['metrics'][0]['result']['drift_score']\n",
    "\tnum_drifted_columns = result['metrics'][1]['result']['number_of_drifted_columns']\n",
    "\tshare_missing_values = result['metrics'][2]['result']['current']['share_of_missing_values']\n",
    "\tprint(current_data[\"createdAt\"].max(), prediction_drift,num_drifted_columns,share_missing_values)\n",
    "    # Insert metrics to the database\n",
    "\ttry: \n",
    "\t\tcurr.execute(\n",
    "\t\t\t\"insert into dummy_metrics(timestamp, value1, value2, value3) values (%s, %s, %s, %s)\",\n",
    "\t\t\t(current_data[\"createdAt\"].max(), prediction_drift, num_drifted_columns, share_missing_values)\n",
    "\t\t)\n",
    "\texcept:\n",
    "\t\tcurr.execute(\n",
    "\t\t\t\"insert into dummy_metrics(timestamp, prediction_drift, num_drifted_columns, share_missing_values) values (%s, %s, %s, %s)\",\n",
    "\t\t\t(current_data[\"createdAt\"].max(), None, None, None)\n",
    "\t\t)\n",
    "\treturn None"
   ]
  },
  {
   "cell_type": "code",
   "execution_count": 73,
   "metadata": {},
   "outputs": [],
   "source": [
    "\n",
    "\n",
    "def batch_monitoring_backfill():\n",
    "    \n",
    "\tbatch_size = 100\n",
    "\tnum_batches = (len(raw_data) + batch_size - 1) // batch_size\n",
    "\t# Initialiser les variables\n",
    "\tstart_index = 0\n",
    "\tend_index = 0\n",
    " \n",
    "\t# prep_db()\n",
    "\tlast_send = datetime.datetime.now() - datetime.timedelta(seconds=10)\n",
    "\twith psycopg.connect(\"host=localhost port=5432 dbname=test user=postgres password=example\", autocommit=True) as conn:\n",
    "\t\tfor _ in range(num_batches):\n",
    "\t\t\tend_index = start_index + batch_size\n",
    "\t\t\twith conn.cursor() as curr:\n",
    "\t\t\t\tcalculate_metrics_postgresql(curr,num_batches, start_index,end_index)\n",
    "\t\t\tstart_index = end_index\n",
    "   \n",
    "\t\t\tnew_send = datetime.datetime.now()\n",
    "\t\t\tseconds_elapsed = (new_send - last_send).total_seconds()\n",
    "\t\t\tif seconds_elapsed < SEND_TIMEOUT:\n",
    "\t\t\t\ttime.sleep(SEND_TIMEOUT - seconds_elapsed)\n",
    "\t\t\twhile last_send < new_send:\n",
    "\t\t\t\tlast_send = last_send + datetime.timedelta(seconds=10)\n",
    "\t\t\tlogging.info(\"data sent\")"
   ]
  },
  {
   "cell_type": "code",
   "execution_count": 74,
   "metadata": {},
   "outputs": [
    {
     "name": "stdout",
     "output_type": "stream",
     "text": [
      "2017-11-08 10:01:22 0.7332500171808467 0 0.0\n",
      "2019-12-18 09:18:21 0.9877878006860294 1 0.0\n",
      "2020-11-14 11:52:10 0.7629774146142639 0 0.0\n",
      "2021-01-11 21:00:15 0.020791997193519672 3 0.0\n"
     ]
    },
    {
     "name": "stderr",
     "output_type": "stream",
     "text": [
      "/Users/anis/miniforge3/envs/mlopszoomcamp_2023_project/lib/python3.11/site-packages/scipy/stats/_stats_py.py:8064: RuntimeWarning: divide by zero encountered in divide\n",
      "  terms = (f_obs_float - f_exp)**2 / f_exp\n",
      "/Users/anis/miniforge3/envs/mlopszoomcamp_2023_project/lib/python3.11/site-packages/scipy/stats/_stats_py.py:8064: RuntimeWarning: divide by zero encountered in divide\n",
      "  terms = (f_obs_float - f_exp)**2 / f_exp\n",
      "/Users/anis/miniforge3/envs/mlopszoomcamp_2023_project/lib/python3.11/site-packages/scipy/stats/_stats_py.py:8064: RuntimeWarning: divide by zero encountered in divide\n",
      "  terms = (f_obs_float - f_exp)**2 / f_exp\n"
     ]
    },
    {
     "name": "stdout",
     "output_type": "stream",
     "text": [
      "2021-03-14 14:07:13 0.23504861641221936 1 0.0\n",
      "2021-05-22 11:32:25 0.1340215826761443 1 0.0\n"
     ]
    },
    {
     "name": "stderr",
     "output_type": "stream",
     "text": [
      "/Users/anis/miniforge3/envs/mlopszoomcamp_2023_project/lib/python3.11/site-packages/scipy/stats/_stats_py.py:8064: RuntimeWarning: divide by zero encountered in divide\n",
      "  terms = (f_obs_float - f_exp)**2 / f_exp\n"
     ]
    },
    {
     "name": "stdout",
     "output_type": "stream",
     "text": [
      "2021-07-23 19:27:30 0.4914615381119013 2 0.0\n",
      "2021-09-01 15:28:10 0.07143654944636102 2 0.0\n",
      "2021-09-30 11:07:32 0.3598180966851865 1 0.0\n",
      "2021-11-04 00:00:32 0.020791997193519672 3 0.0\n"
     ]
    },
    {
     "name": "stderr",
     "output_type": "stream",
     "text": [
      "/Users/anis/miniforge3/envs/mlopszoomcamp_2023_project/lib/python3.11/site-packages/scipy/stats/_stats_py.py:8064: RuntimeWarning: divide by zero encountered in divide\n",
      "  terms = (f_obs_float - f_exp)**2 / f_exp\n"
     ]
    },
    {
     "name": "stdout",
     "output_type": "stream",
     "text": [
      "2021-11-22 13:47:02 0.5532116445348475 1 0.0\n"
     ]
    },
    {
     "name": "stderr",
     "output_type": "stream",
     "text": [
      "/Users/anis/miniforge3/envs/mlopszoomcamp_2023_project/lib/python3.11/site-packages/scipy/stats/_stats_py.py:8064: RuntimeWarning: divide by zero encountered in divide\n",
      "  terms = (f_obs_float - f_exp)**2 / f_exp\n"
     ]
    }
   ],
   "source": [
    "batch_monitoring_backfill()"
   ]
  },
  {
   "cell_type": "code",
   "execution_count": 15,
   "metadata": {},
   "outputs": [],
   "source": [
    "num_features = ['location_duree', 'superficie', 'pieces', 'etages']\n",
    "cat_features = ['category', 'wilaya']\n",
    "\n",
    "def prep_data(model,dv) -> (pd.DataFrame,pd.DataFrame):\n",
    "    data = pd.read_parquet('data/reference_data.parquet')\n",
    "    data['createdAt'] = data['createdAt'].dt.tz_localize(None)\n",
    "    data = data.reset_index(drop=True)\n",
    "    data.sort_values(by=\"createdAt\", ascending=True,inplace=True)\n",
    "    \n",
    "    total_rows = len(data)\n",
    "    num_rows_first_df = int(total_rows * 0.8)\n",
    "    num_rows_second_df = total_rows - num_rows_first_df\n",
    "\n",
    "\n",
    "    X = data[num_features+cat_features]\n",
    "    X = X.to_dict('records')\n",
    "\n",
    "\n",
    "\n",
    "    data['price_pred'] = model.predict(dv.transform(X))\n",
    "\n",
    "    reference_data = data.head(num_rows_first_df)\n",
    "    raw_data = data.drop('price_pred',axis = 1).tail(num_rows_second_df)\n",
    "\n",
    "    # raw_data.sort_values(by=\"createdAt\", ascending=True,inplace=True)\n",
    "    # reference_data.sort_values(by=\"createdAt\", ascending=True,inplace=True)\n",
    "    return raw_data, reference_data "
   ]
  },
  {
   "cell_type": "code",
   "execution_count": 16,
   "metadata": {},
   "outputs": [],
   "source": [
    "data = pd.read_parquet('data/reference_data.parquet')"
   ]
  },
  {
   "cell_type": "code",
   "execution_count": 17,
   "metadata": {},
   "outputs": [],
   "source": [
    "raw_data, reference_data  = prep_data(model,dv) "
   ]
  },
  {
   "cell_type": "code",
   "execution_count": 18,
   "metadata": {},
   "outputs": [
    {
     "data": {
      "text/html": [
       "<div>\n",
       "<style scoped>\n",
       "    .dataframe tbody tr th:only-of-type {\n",
       "        vertical-align: middle;\n",
       "    }\n",
       "\n",
       "    .dataframe tbody tr th {\n",
       "        vertical-align: top;\n",
       "    }\n",
       "\n",
       "    .dataframe thead th {\n",
       "        text-align: right;\n",
       "    }\n",
       "</style>\n",
       "<table border=\"1\" class=\"dataframe\">\n",
       "  <thead>\n",
       "    <tr style=\"text-align: right;\">\n",
       "      <th></th>\n",
       "      <th>createdAt</th>\n",
       "      <th>location_duree</th>\n",
       "      <th>superficie</th>\n",
       "      <th>pieces</th>\n",
       "      <th>etages</th>\n",
       "      <th>category</th>\n",
       "      <th>wilaya</th>\n",
       "      <th>commune</th>\n",
       "      <th>price</th>\n",
       "      <th>price_pred</th>\n",
       "    </tr>\n",
       "  </thead>\n",
       "  <tbody>\n",
       "    <tr>\n",
       "      <th>1587</th>\n",
       "      <td>2013-09-09 06:29:54</td>\n",
       "      <td>6</td>\n",
       "      <td>120</td>\n",
       "      <td>4</td>\n",
       "      <td>1</td>\n",
       "      <td>Appartement</td>\n",
       "      <td>Alger</td>\n",
       "      <td>Hydra</td>\n",
       "      <td>130000.0</td>\n",
       "      <td>61524.242188</td>\n",
       "    </tr>\n",
       "  </tbody>\n",
       "</table>\n",
       "</div>"
      ],
      "text/plain": [
       "               createdAt  location_duree  superficie  pieces  etages  \\\n",
       "1587 2013-09-09 06:29:54               6         120       4       1   \n",
       "\n",
       "         category wilaya commune     price    price_pred  \n",
       "1587  Appartement  Alger   Hydra  130000.0  61524.242188  "
      ]
     },
     "execution_count": 18,
     "metadata": {},
     "output_type": "execute_result"
    }
   ],
   "source": [
    "reference_data.head(1)"
   ]
  },
  {
   "cell_type": "code",
   "execution_count": 19,
   "metadata": {},
   "outputs": [
    {
     "data": {
      "text/html": [
       "<div>\n",
       "<style scoped>\n",
       "    .dataframe tbody tr th:only-of-type {\n",
       "        vertical-align: middle;\n",
       "    }\n",
       "\n",
       "    .dataframe tbody tr th {\n",
       "        vertical-align: top;\n",
       "    }\n",
       "\n",
       "    .dataframe thead th {\n",
       "        text-align: right;\n",
       "    }\n",
       "</style>\n",
       "<table border=\"1\" class=\"dataframe\">\n",
       "  <thead>\n",
       "    <tr style=\"text-align: right;\">\n",
       "      <th></th>\n",
       "      <th>createdAt</th>\n",
       "      <th>location_duree</th>\n",
       "      <th>superficie</th>\n",
       "      <th>pieces</th>\n",
       "      <th>etages</th>\n",
       "      <th>category</th>\n",
       "      <th>wilaya</th>\n",
       "      <th>commune</th>\n",
       "      <th>price</th>\n",
       "      <th>price_pred</th>\n",
       "    </tr>\n",
       "  </thead>\n",
       "  <tbody>\n",
       "    <tr>\n",
       "      <th>318</th>\n",
       "      <td>2022-01-20 13:34:13</td>\n",
       "      <td>6</td>\n",
       "      <td>65</td>\n",
       "      <td>2</td>\n",
       "      <td>0</td>\n",
       "      <td>Appartement</td>\n",
       "      <td>Alger</td>\n",
       "      <td>Hydra</td>\n",
       "      <td>140000.0</td>\n",
       "      <td>54338.316406</td>\n",
       "    </tr>\n",
       "  </tbody>\n",
       "</table>\n",
       "</div>"
      ],
      "text/plain": [
       "              createdAt  location_duree  superficie  pieces  etages  \\\n",
       "318 2022-01-20 13:34:13               6          65       2       0   \n",
       "\n",
       "        category wilaya commune     price    price_pred  \n",
       "318  Appartement  Alger   Hydra  140000.0  54338.316406  "
      ]
     },
     "execution_count": 19,
     "metadata": {},
     "output_type": "execute_result"
    }
   ],
   "source": [
    "reference_data.tail(1)"
   ]
  },
  {
   "cell_type": "code",
   "execution_count": 20,
   "metadata": {},
   "outputs": [
    {
     "data": {
      "text/html": [
       "<div>\n",
       "<style scoped>\n",
       "    .dataframe tbody tr th:only-of-type {\n",
       "        vertical-align: middle;\n",
       "    }\n",
       "\n",
       "    .dataframe tbody tr th {\n",
       "        vertical-align: top;\n",
       "    }\n",
       "\n",
       "    .dataframe thead th {\n",
       "        text-align: right;\n",
       "    }\n",
       "</style>\n",
       "<table border=\"1\" class=\"dataframe\">\n",
       "  <thead>\n",
       "    <tr style=\"text-align: right;\">\n",
       "      <th></th>\n",
       "      <th>createdAt</th>\n",
       "      <th>location_duree</th>\n",
       "      <th>superficie</th>\n",
       "      <th>pieces</th>\n",
       "      <th>etages</th>\n",
       "      <th>category</th>\n",
       "      <th>wilaya</th>\n",
       "      <th>commune</th>\n",
       "      <th>price</th>\n",
       "    </tr>\n",
       "  </thead>\n",
       "  <tbody>\n",
       "    <tr>\n",
       "      <th>317</th>\n",
       "      <td>2022-01-20 13:47:35</td>\n",
       "      <td>6</td>\n",
       "      <td>92</td>\n",
       "      <td>3</td>\n",
       "      <td>5</td>\n",
       "      <td>Appartement</td>\n",
       "      <td>Alger</td>\n",
       "      <td>Alger centre</td>\n",
       "      <td>140000.0</td>\n",
       "    </tr>\n",
       "  </tbody>\n",
       "</table>\n",
       "</div>"
      ],
      "text/plain": [
       "              createdAt  location_duree  superficie  pieces  etages  \\\n",
       "317 2022-01-20 13:47:35               6          92       3       5   \n",
       "\n",
       "        category wilaya       commune     price  \n",
       "317  Appartement  Alger  Alger centre  140000.0  "
      ]
     },
     "execution_count": 20,
     "metadata": {},
     "output_type": "execute_result"
    }
   ],
   "source": [
    "raw_data.head(1)"
   ]
  },
  {
   "cell_type": "code",
   "execution_count": 22,
   "metadata": {},
   "outputs": [
    {
     "data": {
      "text/html": [
       "<div>\n",
       "<style scoped>\n",
       "    .dataframe tbody tr th:only-of-type {\n",
       "        vertical-align: middle;\n",
       "    }\n",
       "\n",
       "    .dataframe tbody tr th {\n",
       "        vertical-align: top;\n",
       "    }\n",
       "\n",
       "    .dataframe thead th {\n",
       "        text-align: right;\n",
       "    }\n",
       "</style>\n",
       "<table border=\"1\" class=\"dataframe\">\n",
       "  <thead>\n",
       "    <tr style=\"text-align: right;\">\n",
       "      <th></th>\n",
       "      <th>createdAt</th>\n",
       "      <th>location_duree</th>\n",
       "      <th>superficie</th>\n",
       "      <th>pieces</th>\n",
       "      <th>etages</th>\n",
       "      <th>category</th>\n",
       "      <th>wilaya</th>\n",
       "      <th>commune</th>\n",
       "      <th>price</th>\n",
       "    </tr>\n",
       "  </thead>\n",
       "  <tbody>\n",
       "    <tr>\n",
       "      <th>0</th>\n",
       "      <td>2022-05-24 22:53:17</td>\n",
       "      <td>6</td>\n",
       "      <td>80</td>\n",
       "      <td>3</td>\n",
       "      <td>3</td>\n",
       "      <td>Appartement</td>\n",
       "      <td>Alger</td>\n",
       "      <td>Bir mourad rais</td>\n",
       "      <td>65000.0</td>\n",
       "    </tr>\n",
       "  </tbody>\n",
       "</table>\n",
       "</div>"
      ],
      "text/plain": [
       "            createdAt  location_duree  superficie  pieces  etages  \\\n",
       "0 2022-05-24 22:53:17               6          80       3       3   \n",
       "\n",
       "      category wilaya          commune    price  \n",
       "0  Appartement  Alger  Bir mourad rais  65000.0  "
      ]
     },
     "execution_count": 22,
     "metadata": {},
     "output_type": "execute_result"
    }
   ],
   "source": [
    "raw_data.tail(1)"
   ]
  },
  {
   "cell_type": "code",
   "execution_count": 21,
   "metadata": {},
   "outputs": [
    {
     "data": {
      "text/html": [
       "<div>\n",
       "<style scoped>\n",
       "    .dataframe tbody tr th:only-of-type {\n",
       "        vertical-align: middle;\n",
       "    }\n",
       "\n",
       "    .dataframe tbody tr th {\n",
       "        vertical-align: top;\n",
       "    }\n",
       "\n",
       "    .dataframe thead th {\n",
       "        text-align: right;\n",
       "    }\n",
       "</style>\n",
       "<table border=\"1\" class=\"dataframe\">\n",
       "  <thead>\n",
       "    <tr style=\"text-align: right;\">\n",
       "      <th></th>\n",
       "      <th>createdAt</th>\n",
       "      <th>location_duree</th>\n",
       "      <th>superficie</th>\n",
       "      <th>pieces</th>\n",
       "      <th>etages</th>\n",
       "      <th>category</th>\n",
       "      <th>wilaya</th>\n",
       "      <th>commune</th>\n",
       "      <th>price</th>\n",
       "    </tr>\n",
       "  </thead>\n",
       "  <tbody>\n",
       "    <tr>\n",
       "      <th>33750</th>\n",
       "      <td>2022-05-24 22:53:17+00:00</td>\n",
       "      <td>6</td>\n",
       "      <td>80</td>\n",
       "      <td>3</td>\n",
       "      <td>3</td>\n",
       "      <td>Appartement</td>\n",
       "      <td>Alger</td>\n",
       "      <td>Bir mourad rais</td>\n",
       "      <td>65000.0</td>\n",
       "    </tr>\n",
       "  </tbody>\n",
       "</table>\n",
       "</div>"
      ],
      "text/plain": [
       "                      createdAt  location_duree  superficie  pieces  etages  \\\n",
       "33750 2022-05-24 22:53:17+00:00               6          80       3       3   \n",
       "\n",
       "          category wilaya          commune    price  \n",
       "33750  Appartement  Alger  Bir mourad rais  65000.0  "
      ]
     },
     "execution_count": 21,
     "metadata": {},
     "output_type": "execute_result"
    }
   ],
   "source": [
    "data.head(1)"
   ]
  },
  {
   "cell_type": "code",
   "execution_count": 23,
   "metadata": {},
   "outputs": [
    {
     "data": {
      "text/html": [
       "<div>\n",
       "<style scoped>\n",
       "    .dataframe tbody tr th:only-of-type {\n",
       "        vertical-align: middle;\n",
       "    }\n",
       "\n",
       "    .dataframe tbody tr th {\n",
       "        vertical-align: top;\n",
       "    }\n",
       "\n",
       "    .dataframe thead th {\n",
       "        text-align: right;\n",
       "    }\n",
       "</style>\n",
       "<table border=\"1\" class=\"dataframe\">\n",
       "  <thead>\n",
       "    <tr style=\"text-align: right;\">\n",
       "      <th></th>\n",
       "      <th>createdAt</th>\n",
       "      <th>location_duree</th>\n",
       "      <th>superficie</th>\n",
       "      <th>pieces</th>\n",
       "      <th>etages</th>\n",
       "      <th>category</th>\n",
       "      <th>wilaya</th>\n",
       "      <th>commune</th>\n",
       "      <th>price</th>\n",
       "    </tr>\n",
       "  </thead>\n",
       "  <tbody>\n",
       "    <tr>\n",
       "      <th>40406</th>\n",
       "      <td>2013-09-09 06:29:54+00:00</td>\n",
       "      <td>6</td>\n",
       "      <td>120</td>\n",
       "      <td>4</td>\n",
       "      <td>1</td>\n",
       "      <td>Appartement</td>\n",
       "      <td>Alger</td>\n",
       "      <td>Hydra</td>\n",
       "      <td>130000.0</td>\n",
       "    </tr>\n",
       "  </tbody>\n",
       "</table>\n",
       "</div>"
      ],
      "text/plain": [
       "                      createdAt  location_duree  superficie  pieces  etages  \\\n",
       "40406 2013-09-09 06:29:54+00:00               6         120       4       1   \n",
       "\n",
       "          category wilaya commune     price  \n",
       "40406  Appartement  Alger   Hydra  130000.0  "
      ]
     },
     "execution_count": 23,
     "metadata": {},
     "output_type": "execute_result"
    }
   ],
   "source": [
    "data.tail(1)"
   ]
  },
  {
   "cell_type": "code",
   "execution_count": null,
   "metadata": {},
   "outputs": [],
   "source": []
  }
 ],
 "metadata": {
  "kernelspec": {
   "display_name": "mlopszoomcamp_2023_project",
   "language": "python",
   "name": "python3"
  },
  "language_info": {
   "codemirror_mode": {
    "name": "ipython",
    "version": 3
   },
   "file_extension": ".py",
   "mimetype": "text/x-python",
   "name": "python",
   "nbconvert_exporter": "python",
   "pygments_lexer": "ipython3",
   "version": "3.11.4"
  },
  "orig_nbformat": 4
 },
 "nbformat": 4,
 "nbformat_minor": 2
}
