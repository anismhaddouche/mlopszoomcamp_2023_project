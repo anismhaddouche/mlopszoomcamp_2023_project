{
 "cells": [
  {
   "cell_type": "code",
   "execution_count": 1,
   "metadata": {},
   "outputs": [],
   "source": [
    "import mlflow\n",
    "import mlflow\n",
    "import pickle\n",
    "\n",
    "logged_model = 'runs:/0bca94481fa84654ae96435f3adc5f6c/models_mlflow'\n",
    "\n",
    "# Load model as a PyFuncModel.\n",
    "loaded_model = mlflow.pyfunc.load_model(logged_model)"
   ]
  },
  {
   "cell_type": "code",
   "execution_count": 24,
   "metadata": {},
   "outputs": [
    {
     "name": "stdout",
     "output_type": "stream",
     "text": [
      "DictVectorizer()\n"
     ]
    }
   ],
   "source": [
    "\n",
    "# Ouvrir le fichier binaire en mode lecture (rb pour read binary)\n",
    "with open(\"models/preprocessor.b\", \"rb\") as f_in:\n",
    "    dv = pickle.load(f_in)\n",
    "\n",
    "# Vous pouvez maintenant utiliser l'objet chargé comme bon vous semble\n",
    "print(dv)\n"
   ]
  },
  {
   "cell_type": "code",
   "execution_count": 25,
   "metadata": {},
   "outputs": [],
   "source": [
    "y_test = dv.transform({'category': 'Appartement',\n",
    "  'wilaya': 'Sidi bel abbes',\n",
    "  'commune': 'Sidi bel abbes',\n",
    "  'location_duree': 6,\n",
    "  'superficie': 72,\n",
    "  'pieces': 3,\n",
    "  'etages': 3})\n",
    "\n",
    "y_test_2 = dv.transform({'category': 'Local',\n",
    "  'wilaya': 'Alger',\n",
    "  'commune': 'Birkhadem',\n",
    "  'location_duree': 6,\n",
    "  'superficie': 160,\n",
    "  'pieces': 2,\n",
    "  'etages': 0})"
   ]
  },
  {
   "cell_type": "code",
   "execution_count": 28,
   "metadata": {},
   "outputs": [
    {
     "data": {
      "text/plain": [
       "array([32913.64], dtype=float32)"
      ]
     },
     "execution_count": 28,
     "metadata": {},
     "output_type": "execute_result"
    }
   ],
   "source": [
    "loaded_model.predict(y_test)"
   ]
  },
  {
   "cell_type": "markdown",
   "metadata": {},
   "source": [
    "# Modification du feature engineering "
   ]
  },
  {
   "cell_type": "code",
   "execution_count": 2,
   "metadata": {},
   "outputs": [],
   "source": [
    "from pathlib import Path\n",
    "import pandas as pd "
   ]
  },
  {
   "cell_type": "code",
   "execution_count": 42,
   "metadata": {},
   "outputs": [],
   "source": [
    "def feature_engineering(path_cleaned_data = Path(\"data/1_cleaned_data.parquet\")) -> pd.DataFrame : \n",
    "    \"\"\"\n",
    "    Prepare the data for machines learning models. More precisely: \n",
    "        - Choose the target and features\n",
    "        - Drop all missing values\n",
    "        - Dealing with outliers \n",
    "\n",
    "    Args:\n",
    "        path_cleaned_data: The path of the 1_cleaned_data file\n",
    "\n",
    "    Returns:\n",
    "        data: The cleaned dataframe.\n",
    "\n",
    "    TODO:\n",
    "        - improving outliers dealing methode\n",
    "        - make some transformation on the target and some features\n",
    "    \"\"\"\n",
    "    \n",
    "    # Prepare data \n",
    "    data_cleaned = pd.read_parquet(path_cleaned_data)\n",
    "\n",
    "    ### Keep only annoncement with \"priceUnit == MILLION\"\n",
    "    data_cleaned = data_cleaned[data_cleaned[\"priceUnit\"] == \"MILLION\"]\n",
    "    \n",
    "    ### Delete ligne where the price == 1\n",
    "    data_cleaned = data_cleaned[(data_cleaned[\"price\"] > 1 )]\n",
    "    ### Choose the target and features\n",
    "    target = [\"price\"]\n",
    "    features_num = [ \"location_duree\",\"superficie\",\"pieces\",\"etages\"]\n",
    "    features_cat = [\"category\",\"wilaya\",\"commune\"]\n",
    "\n",
    "    ### Create new data frame with selected features \n",
    "    data = data_cleaned[ [\"createdAt\"] + features_num + features_cat + target]\n",
    "\n",
    "    ### Drop all missing values\n",
    "    data.dropna(inplace=True)\n",
    "\n",
    "    ### Dealing with outliers \n",
    "    factor=1.5 \n",
    "    replace_with=None\n",
    "    for feature in [\"price\",'superficie' ]:\n",
    "        Q1 = data[feature].quantile(0.25)\n",
    "        Q3 = data[feature].quantile(0.75)\n",
    "        IQR = Q3 - Q1\n",
    "        lower_bound = Q1 - factor * IQR\n",
    "        upper_bound = Q3 + factor * IQR\n",
    "\n",
    "        # Identify and potentially replace outliers\n",
    "        outliers = (data[feature] < lower_bound) | (data[feature] > upper_bound)\n",
    "        if replace_with is not None:\n",
    "            data.loc[outliers, feature] = replace_with\n",
    "        else:\n",
    "            data = data[~outliers]\n",
    "\n",
    "    return data "
   ]
  },
  {
   "cell_type": "code",
   "execution_count": 43,
   "metadata": {},
   "outputs": [
    {
     "name": "stderr",
     "output_type": "stream",
     "text": [
      "/var/folders/qz/t1vzp79913l2sfbf0b3d9sdr0000gn/T/ipykernel_62673/1832447388.py:36: SettingWithCopyWarning: \n",
      "A value is trying to be set on a copy of a slice from a DataFrame\n",
      "\n",
      "See the caveats in the documentation: https://pandas.pydata.org/pandas-docs/stable/user_guide/indexing.html#returning-a-view-versus-a-copy\n",
      "  data.dropna(inplace=True)\n"
     ]
    }
   ],
   "source": [
    "data = feature_engineering()"
   ]
  },
  {
   "cell_type": "code",
   "execution_count": 44,
   "metadata": {},
   "outputs": [
    {
     "data": {
      "text/html": [
       "<div>\n",
       "<style scoped>\n",
       "    .dataframe tbody tr th:only-of-type {\n",
       "        vertical-align: middle;\n",
       "    }\n",
       "\n",
       "    .dataframe tbody tr th {\n",
       "        vertical-align: top;\n",
       "    }\n",
       "\n",
       "    .dataframe thead th {\n",
       "        text-align: right;\n",
       "    }\n",
       "</style>\n",
       "<table border=\"1\" class=\"dataframe\">\n",
       "  <thead>\n",
       "    <tr style=\"text-align: right;\">\n",
       "      <th></th>\n",
       "      <th>location_duree</th>\n",
       "      <th>superficie</th>\n",
       "      <th>pieces</th>\n",
       "      <th>etages</th>\n",
       "      <th>price</th>\n",
       "    </tr>\n",
       "  </thead>\n",
       "  <tbody>\n",
       "    <tr>\n",
       "      <th>count</th>\n",
       "      <td>7937.0</td>\n",
       "      <td>7937.0</td>\n",
       "      <td>7937.0</td>\n",
       "      <td>7937.0</td>\n",
       "      <td>7937.000000</td>\n",
       "    </tr>\n",
       "    <tr>\n",
       "      <th>mean</th>\n",
       "      <td>5.802822</td>\n",
       "      <td>109.864684</td>\n",
       "      <td>3.483684</td>\n",
       "      <td>2.366511</td>\n",
       "      <td>101987.370669</td>\n",
       "    </tr>\n",
       "    <tr>\n",
       "      <th>std</th>\n",
       "      <td>0.817865</td>\n",
       "      <td>52.53731</td>\n",
       "      <td>2.151698</td>\n",
       "      <td>2.436409</td>\n",
       "      <td>106519.851760</td>\n",
       "    </tr>\n",
       "    <tr>\n",
       "      <th>min</th>\n",
       "      <td>1.0</td>\n",
       "      <td>0.0</td>\n",
       "      <td>0.0</td>\n",
       "      <td>0.0</td>\n",
       "      <td>100.000000</td>\n",
       "    </tr>\n",
       "    <tr>\n",
       "      <th>25%</th>\n",
       "      <td>6.0</td>\n",
       "      <td>75.0</td>\n",
       "      <td>3.0</td>\n",
       "      <td>1.0</td>\n",
       "      <td>35000.000000</td>\n",
       "    </tr>\n",
       "    <tr>\n",
       "      <th>50%</th>\n",
       "      <td>6.0</td>\n",
       "      <td>100.0</td>\n",
       "      <td>3.0</td>\n",
       "      <td>2.0</td>\n",
       "      <td>65000.000000</td>\n",
       "    </tr>\n",
       "    <tr>\n",
       "      <th>75%</th>\n",
       "      <td>6.0</td>\n",
       "      <td>137.0</td>\n",
       "      <td>4.0</td>\n",
       "      <td>3.0</td>\n",
       "      <td>120000.000000</td>\n",
       "    </tr>\n",
       "    <tr>\n",
       "      <th>max</th>\n",
       "      <td>7.0</td>\n",
       "      <td>280.0</td>\n",
       "      <td>77.0</td>\n",
       "      <td>77.0</td>\n",
       "      <td>800000.000000</td>\n",
       "    </tr>\n",
       "  </tbody>\n",
       "</table>\n",
       "</div>"
      ],
      "text/plain": [
       "       location_duree  superficie    pieces    etages          price\n",
       "count          7937.0      7937.0    7937.0    7937.0    7937.000000\n",
       "mean         5.802822  109.864684  3.483684  2.366511  101987.370669\n",
       "std          0.817865    52.53731  2.151698  2.436409  106519.851760\n",
       "min               1.0         0.0       0.0       0.0     100.000000\n",
       "25%               6.0        75.0       3.0       1.0   35000.000000\n",
       "50%               6.0       100.0       3.0       2.0   65000.000000\n",
       "75%               6.0       137.0       4.0       3.0  120000.000000\n",
       "max               7.0       280.0      77.0      77.0  800000.000000"
      ]
     },
     "execution_count": 44,
     "metadata": {},
     "output_type": "execute_result"
    }
   ],
   "source": [
    "data.describe(\n",
    ")"
   ]
  },
  {
   "cell_type": "code",
   "execution_count": 45,
   "metadata": {},
   "outputs": [
    {
     "data": {
      "text/html": [
       "<div>\n",
       "<style scoped>\n",
       "    .dataframe tbody tr th:only-of-type {\n",
       "        vertical-align: middle;\n",
       "    }\n",
       "\n",
       "    .dataframe tbody tr th {\n",
       "        vertical-align: top;\n",
       "    }\n",
       "\n",
       "    .dataframe thead th {\n",
       "        text-align: right;\n",
       "    }\n",
       "</style>\n",
       "<table border=\"1\" class=\"dataframe\">\n",
       "  <thead>\n",
       "    <tr style=\"text-align: right;\">\n",
       "      <th></th>\n",
       "      <th>createdAt</th>\n",
       "      <th>location_duree</th>\n",
       "      <th>superficie</th>\n",
       "      <th>pieces</th>\n",
       "      <th>etages</th>\n",
       "      <th>category</th>\n",
       "      <th>wilaya</th>\n",
       "      <th>commune</th>\n",
       "      <th>price</th>\n",
       "    </tr>\n",
       "  </thead>\n",
       "  <tbody>\n",
       "    <tr>\n",
       "      <th>302</th>\n",
       "      <td>2022-12-19 16:58:36+00:00</td>\n",
       "      <td>6</td>\n",
       "      <td>34</td>\n",
       "      <td>2</td>\n",
       "      <td>2</td>\n",
       "      <td>Local</td>\n",
       "      <td>Oran</td>\n",
       "      <td>Oran</td>\n",
       "      <td>100.0</td>\n",
       "    </tr>\n",
       "  </tbody>\n",
       "</table>\n",
       "</div>"
      ],
      "text/plain": [
       "                    createdAt  location_duree  superficie  pieces  etages  \\\n",
       "302 2022-12-19 16:58:36+00:00               6          34       2       2   \n",
       "\n",
       "    category wilaya commune  price  \n",
       "302    Local   Oran    Oran  100.0  "
      ]
     },
     "execution_count": 45,
     "metadata": {},
     "output_type": "execute_result"
    }
   ],
   "source": [
    "data[(data[\"price\"] == 100 )]"
   ]
  },
  {
   "cell_type": "code",
   "execution_count": 46,
   "metadata": {},
   "outputs": [],
   "source": [
    "df = pd.read_parquet(Path(\"data/1_cleaned_data.parquet\"))"
   ]
  },
  {
   "cell_type": "code",
   "execution_count": 47,
   "metadata": {},
   "outputs": [
    {
     "data": {
      "text/plain": [
       "<Axes: >"
      ]
     },
     "execution_count": 47,
     "metadata": {},
     "output_type": "execute_result"
    },
    {
     "data": {
      "image/png": "[encoded data removed]",
      "text/plain": [
       "<Figure size 640x480 with 1 Axes>"
      ]
     },
     "metadata": {},
     "output_type": "display_data"
    }
   ],
   "source": [
    "data[\"price\"].hist()"
   ]
  },
  {
   "cell_type": "code",
   "execution_count": null,
   "metadata": {},
   "outputs": [],
   "source": []
  }
 ],
 "metadata": {
  "kernelspec": {
   "display_name": "mlopszoomcamp_2023_project",
   "language": "python",
   "name": "python3"
  },
  "language_info": {
   "codemirror_mode": {
    "name": "ipython",
    "version": 3
   },
   "file_extension": ".py",
   "mimetype": "text/x-python",
   "name": "python",
   "nbconvert_exporter": "python",
   "pygments_lexer": "ipython3",
   "version": "3.11.4"
  },
  "orig_nbformat": 4
 },
 "nbformat": 4,
 "nbformat_minor": 2
}
