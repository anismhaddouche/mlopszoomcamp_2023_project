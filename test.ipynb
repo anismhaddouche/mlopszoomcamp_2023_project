{
 "cells": [
  {
   "cell_type": "code",
   "execution_count": 1,
   "metadata": {},
   "outputs": [],
   "source": [
    "import mlflow\n",
    "import mlflow\n",
    "logged_model = 'runs:/e0b7272d10ba440abce75e70e0d7e87a/models_mlflow'\n",
    "\n",
    "# Load model as a PyFuncModel.\n",
    "loaded_model = mlflow.pyfunc.load_model(logged_model)"
   ]
  },
  {
   "cell_type": "code",
   "execution_count": 3,
   "metadata": {},
   "outputs": [
    {
     "ename": "SyntaxError",
     "evalue": "':' expected after dictionary key (2583492007.py, line 5)",
     "output_type": "error",
     "traceback": [
      "\u001b[0;36m  Cell \u001b[0;32mIn[3], line 5\u001b[0;36m\u001b[0m\n\u001b[0;31m    features = {\"location_duree\":6,\"superficie\"49:,\"pieces\"2:,\"etages\":\"Appartement\",\"category\":\"Alger\",\"wilaya\":,\"commune\":\"ordj el kiffan\" }\u001b[0m\n\u001b[0m                                              ^\u001b[0m\n\u001b[0;31mSyntaxError\u001b[0m\u001b[0;31m:\u001b[0m ':' expected after dictionary key\n"
     ]
    }
   ],
   "source": [
    "features_num = [ \"location_duree\",\"superficie\",\"pieces\",\"etages\"]\n",
    "features_cat = [\"category\",\"wilaya\",\"commune\"]\n",
    "# createdAt\tlocation_duree\tsuperficie\tpieces\tetages\tcategory\twilaya\tcommune\tprice\n",
    "# 1\t2022-12-20 01:45:06+00:00\t6\t49\t2\t1\tAppartement\tAlger\tBordj el kiffan\t45000.0\n",
    "features = {\"location_duree\":6,\"superficie\":49,\"pieces\":49,\"etages\":\"Appartement\",\"category\":\"Alger\",\"wilaya\":,\"commune\":\"ordj el kiffan\" }"
   ]
  },
  {
   "cell_type": "code",
   "execution_count": 2,
   "metadata": {},
   "outputs": [
    {
     "data": {
      "text/plain": [
       "mlflow.pyfunc.loaded_model:\n",
       "  artifact_path: models_mlflow\n",
       "  flavor: mlflow.xgboost\n",
       "  run_id: e0b7272d10ba440abce75e70e0d7e87a"
      ]
     },
     "execution_count": 2,
     "metadata": {},
     "output_type": "execute_result"
    }
   ],
   "source": [
    "loaded_model"
   ]
  },
  {
   "cell_type": "code",
   "execution_count": null,
   "metadata": {},
   "outputs": [],
   "source": [
    "import pandas as pd\n",
    "loaded_model.predict(pd.DataFrame(data))"
   ]
  }
 ],
 "metadata": {
  "kernelspec": {
   "display_name": "mlopszoomcamp_2023_project",
   "language": "python",
   "name": "python3"
  },
  "language_info": {
   "codemirror_mode": {
    "name": "ipython",
    "version": 3
   },
   "file_extension": ".py",
   "mimetype": "text/x-python",
   "name": "python",
   "nbconvert_exporter": "python",
   "pygments_lexer": "ipython3",
   "version": "3.11.4"
  },
  "orig_nbformat": 4
 },
 "nbformat": 4,
 "nbformat_minor": 2
}
